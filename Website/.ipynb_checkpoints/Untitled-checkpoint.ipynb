{
 "cells": [
  {
   "cell_type": "code",
   "execution_count": null,
   "id": "d4b0c106",
   "metadata": {},
   "outputs": [],
   "source": [
    "from flask import Flask\n",
    "from flask_sqlalchemy import SQLAlchemy\n",
    "from os import path\n",
    "\n",
    "db = SQLAlchemy()\n",
    "Finance_DB = \"database.db\"\n",
    "def create_app():\n",
    "    #Creating new App\n",
    "    app = Flask(__name__)\n",
    "    app.config['SECRET_KEY'] = \"Simple Secret Key\"\n",
    "\n",
    "    # # Adding database to the application\n",
    "    app.config['SQLALCHEMY_DATABASE_URI'] = f'sqlite:///{DB_NAME}'\n",
    "    db.init_app(app)\n",
    "\n",
    "    # Adding routes\n",
    "    app.register_blueprint(routes, url_prefix=\"/\")\n",
    "\n",
    "    # Create Database\n",
    "    create_database(app)\n",
    "    return app\n",
    "\n",
    "def create_database(app):\n",
    "    if not path.exists('website/' + DB_NAME):\n",
    "        db.create_all(app=app)\n",
    "        print(\"Database Created\")"
   ]
  }
 ],
 "metadata": {
  "kernelspec": {
   "display_name": "Python 3 (ipykernel)",
   "language": "python",
   "name": "python3"
  },
  "language_info": {
   "codemirror_mode": {
    "name": "ipython",
    "version": 3
   },
   "file_extension": ".py",
   "mimetype": "text/x-python",
   "name": "python",
   "nbconvert_exporter": "python",
   "pygments_lexer": "ipython3",
   "version": "3.10.9"
  }
 },
 "nbformat": 4,
 "nbformat_minor": 5
}
