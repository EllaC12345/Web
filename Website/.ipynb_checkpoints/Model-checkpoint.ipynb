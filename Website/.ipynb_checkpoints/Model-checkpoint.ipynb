{
 "cells": [
  {
   "cell_type": "code",
   "execution_count": 2,
   "id": "82d26a1c",
   "metadata": {},
   "outputs": [],
   "source": [
    "from __init__ import db\n",
    "from sqlalchemy import Column, Integer, String, Float,Date"
   ]
  },
  {
   "cell_type": "code",
   "execution_count": 3,
   "id": "bc4f34c5",
   "metadata": {},
   "outputs": [],
   "source": [
    "class Inflation_Index(db.Model):\n",
    "    date =Column(Date, primary_key=True)\n",
    "    CUUR0000SA0 = Column(Float)"
   ]
  },
  {
   "cell_type": "code",
   "execution_count": 4,
   "id": "fe11a432",
   "metadata": {},
   "outputs": [],
   "source": [
    "class Sector (db.Model):\n",
    "    Name = Column(String)\n",
    "    Ticker = Column(Integer, primary_key=True )\n",
    "    Price = Column(Float)\n",
    "    Moving_Average = Column(Float)\n",
    "    Volume = Column(Integer)\n",
    "    CAGR = Column(Float)\n",
    "    "
   ]
  },
  {
   "cell_type": "code",
   "execution_count": null,
   "id": "381d9765",
   "metadata": {},
   "outputs": [],
   "source": []
  }
 ],
 "metadata": {
  "kernelspec": {
   "display_name": "Python 3 (ipykernel)",
   "language": "python",
   "name": "python3"
  },
  "language_info": {
   "codemirror_mode": {
    "name": "ipython",
    "version": 3
   },
   "file_extension": ".py",
   "mimetype": "text/x-python",
   "name": "python",
   "nbconvert_exporter": "python",
   "pygments_lexer": "ipython3",
   "version": "3.10.9"
  }
 },
 "nbformat": 4,
 "nbformat_minor": 5
}
