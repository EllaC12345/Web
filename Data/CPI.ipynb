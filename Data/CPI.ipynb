{
 "cells": [
  {
   "cell_type": "code",
   "execution_count": 1,
   "id": "db06fc3d",
   "metadata": {},
   "outputs": [
    {
     "name": "stdout",
     "output_type": "stream",
     "text": [
      "Requirement already satisfied: flask in /Users/ellandalla/anaconda3/lib/python3.10/site-packages (2.2.5)\n",
      "Requirement already satisfied: Werkzeug>=2.2.2 in /Users/ellandalla/anaconda3/lib/python3.10/site-packages (from flask) (2.2.3)\n",
      "Requirement already satisfied: click>=8.0 in /Users/ellandalla/anaconda3/lib/python3.10/site-packages (from flask) (8.1.7)\n",
      "Requirement already satisfied: itsdangerous>=2.0 in /Users/ellandalla/anaconda3/lib/python3.10/site-packages (from flask) (2.1.2)\n",
      "Requirement already satisfied: Jinja2>=3.0 in /Users/ellandalla/anaconda3/lib/python3.10/site-packages (from flask) (3.1.2)\n",
      "Requirement already satisfied: MarkupSafe>=2.0 in /Users/ellandalla/anaconda3/lib/python3.10/site-packages (from Jinja2>=3.0->flask) (2.1.1)\n",
      "Requirement already satisfied: Flask-SQLAlchemy in /Users/ellandalla/anaconda3/lib/python3.10/site-packages (3.0.5)\n",
      "Requirement already satisfied: flask>=2.2.5 in /Users/ellandalla/anaconda3/lib/python3.10/site-packages (from Flask-SQLAlchemy) (2.2.5)\n",
      "Requirement already satisfied: sqlalchemy>=1.4.18 in /Users/ellandalla/anaconda3/lib/python3.10/site-packages (from Flask-SQLAlchemy) (1.4.32)\n",
      "Requirement already satisfied: itsdangerous>=2.0 in /Users/ellandalla/anaconda3/lib/python3.10/site-packages (from flask>=2.2.5->Flask-SQLAlchemy) (2.1.2)\n",
      "Requirement already satisfied: click>=8.0 in /Users/ellandalla/anaconda3/lib/python3.10/site-packages (from flask>=2.2.5->Flask-SQLAlchemy) (8.1.7)\n",
      "Requirement already satisfied: Jinja2>=3.0 in /Users/ellandalla/anaconda3/lib/python3.10/site-packages (from flask>=2.2.5->Flask-SQLAlchemy) (3.1.2)\n",
      "Requirement already satisfied: Werkzeug>=2.2.2 in /Users/ellandalla/anaconda3/lib/python3.10/site-packages (from flask>=2.2.5->Flask-SQLAlchemy) (2.2.3)\n",
      "Requirement already satisfied: greenlet!=0.4.17 in /Users/ellandalla/anaconda3/lib/python3.10/site-packages (from sqlalchemy>=1.4.18->Flask-SQLAlchemy) (2.0.1)\n",
      "Requirement already satisfied: MarkupSafe>=2.0 in /Users/ellandalla/anaconda3/lib/python3.10/site-packages (from Jinja2>=3.0->flask>=2.2.5->Flask-SQLAlchemy) (2.1.1)\n",
      "Requirement already satisfied: requests in /Users/ellandalla/anaconda3/lib/python3.10/site-packages (2.28.1)\n",
      "Requirement already satisfied: charset-normalizer<3,>=2 in /Users/ellandalla/anaconda3/lib/python3.10/site-packages (from requests) (2.0.4)\n",
      "Requirement already satisfied: urllib3<1.27,>=1.21.1 in /Users/ellandalla/anaconda3/lib/python3.10/site-packages (from requests) (1.26.14)\n",
      "Requirement already satisfied: idna<4,>=2.5 in /Users/ellandalla/anaconda3/lib/python3.10/site-packages (from requests) (3.4)\n",
      "Requirement already satisfied: certifi>=2017.4.17 in /Users/ellandalla/anaconda3/lib/python3.10/site-packages (from requests) (2023.7.22)\n",
      "Requirement already satisfied: bls in /Users/ellandalla/anaconda3/lib/python3.10/site-packages (0.3.0)\n",
      "Requirement already satisfied: pandas in /Users/ellandalla/anaconda3/lib/python3.10/site-packages (from bls) (1.5.3)\n",
      "Requirement already satisfied: requests in /Users/ellandalla/anaconda3/lib/python3.10/site-packages (from bls) (2.28.1)\n",
      "Requirement already satisfied: python-dateutil>=2.8.1 in /Users/ellandalla/anaconda3/lib/python3.10/site-packages (from pandas->bls) (2.8.2)\n",
      "Requirement already satisfied: pytz>=2020.1 in /Users/ellandalla/anaconda3/lib/python3.10/site-packages (from pandas->bls) (2022.7)\n",
      "Requirement already satisfied: numpy>=1.21.0 in /Users/ellandalla/anaconda3/lib/python3.10/site-packages (from pandas->bls) (1.22.3)\n",
      "Requirement already satisfied: urllib3<1.27,>=1.21.1 in /Users/ellandalla/anaconda3/lib/python3.10/site-packages (from requests->bls) (1.26.14)\n",
      "Requirement already satisfied: charset-normalizer<3,>=2 in /Users/ellandalla/anaconda3/lib/python3.10/site-packages (from requests->bls) (2.0.4)\n",
      "Requirement already satisfied: idna<4,>=2.5 in /Users/ellandalla/anaconda3/lib/python3.10/site-packages (from requests->bls) (3.4)\n",
      "Requirement already satisfied: certifi>=2017.4.17 in /Users/ellandalla/anaconda3/lib/python3.10/site-packages (from requests->bls) (2023.7.22)\n",
      "Requirement already satisfied: six>=1.5 in /Users/ellandalla/anaconda3/lib/python3.10/site-packages (from python-dateutil>=2.8.1->pandas->bls) (1.16.0)\n"
     ]
    }
   ],
   "source": [
    "!pip install flask\n",
    "!pip install Flask-SQLAlchemy\n",
    "!pip install requests\n",
    "!pip install bls\n",
    "from sqlalchemy import create_engine\n"
   ]
  },
  {
   "cell_type": "code",
   "execution_count": 1,
   "id": "67a5695b",
   "metadata": {},
   "outputs": [],
   "source": [
    "#importing modules\n",
    "\n",
    "from flask import Blueprint\n",
    "import requests\n",
    "import json\n",
    "from flask_sqlalchemy import SQLAlchemy\n",
    "from flask import Flask, render_template\n",
    "from os import path\n",
    "import csv\n",
    "import pprint\n",
    "\n",
    "\n",
    "import pandas as pd\n",
    "\n",
    "\n"
   ]
  },
  {
   "cell_type": "code",
   "execution_count": 6,
   "id": "ad521904",
   "metadata": {},
   "outputs": [
    {
     "name": "stdout",
     "output_type": "stream",
     "text": [
      "        Date      CPI\n",
      "0    2014-01  233.916\n",
      "1    2014-02  234.781\n",
      "2    2014-03  236.293\n",
      "3    2014-04  237.072\n",
      "4    2014-05  237.900\n",
      "..       ...      ...\n",
      "110  2023-03  301.836\n",
      "111  2023-04  303.363\n",
      "112  2023-05  304.127\n",
      "113  2023-06  305.109\n",
      "114  2023-07  305.691\n",
      "\n",
      "[115 rows x 2 columns]\n"
     ]
    }
   ],
   "source": [
    "#import bls\n",
    "# Fetch CPI data\n",
    "#cpi = bls.get_series('CUUR0000SA0')\n",
    "\n",
    "# Save the data to a CSV file\n",
    "#cpi.to_csv('cpi_data.csv')\n",
    "\n",
    "# Read the CPI data from the CSV file into a DataFrame\n",
    "cpi_data = pd.read_csv('cpi_data.csv')\n",
    "\n",
    "# Rename the columns\n",
    "cpi_data.columns = ['Date', 'CPI']\n",
    "\n",
    "# Print the DataFrame\n",
    "print(cpi_data)\n",
    "CPI_df = pd.DataFrame(cpi_data)\n",
    "## Calculate 10 days simple moving average\n"
   ]
  },
  {
   "cell_type": "code",
   "execution_count": 8,
   "id": "8c8705fc",
   "metadata": {
    "scrolled": true
   },
   "outputs": [
    {
     "data": {
      "text/plain": [
       "115"
      ]
     },
     "execution_count": 8,
     "metadata": {},
     "output_type": "execute_result"
    }
   ],
   "source": [
    "from sqlalchemy import create_engine\n",
    "database_uri = 'sqlite:///finance.db'\n",
    "engine = create_engine(database_uri)\n",
    "CPI_df.to_sql(\"CPI_Data\", engine, index=False, if_exists=\"replace\")\n"
   ]
  },
  {
   "cell_type": "code",
   "execution_count": 4,
   "id": "15f7afac",
   "metadata": {},
   "outputs": [],
   "source": [
    "## Calculate CAGR\n",
    "CPI_df['CAGR_CPI'] = CPI_df['CPI'].pct_change() +1\n",
    "\n"
   ]
  },
  {
   "cell_type": "code",
   "execution_count": 5,
   "id": "8cedcf34",
   "metadata": {},
   "outputs": [
    {
     "data": {
      "text/html": [
       "<div>\n",
       "<style scoped>\n",
       "    .dataframe tbody tr th:only-of-type {\n",
       "        vertical-align: middle;\n",
       "    }\n",
       "\n",
       "    .dataframe tbody tr th {\n",
       "        vertical-align: top;\n",
       "    }\n",
       "\n",
       "    .dataframe thead th {\n",
       "        text-align: right;\n",
       "    }\n",
       "</style>\n",
       "<table border=\"1\" class=\"dataframe\">\n",
       "  <thead>\n",
       "    <tr style=\"text-align: right;\">\n",
       "      <th></th>\n",
       "      <th>Date</th>\n",
       "      <th>CPI</th>\n",
       "      <th>CAGR_CPI</th>\n",
       "    </tr>\n",
       "  </thead>\n",
       "  <tbody>\n",
       "    <tr>\n",
       "      <th>110</th>\n",
       "      <td>2023-03</td>\n",
       "      <td>301.836</td>\n",
       "      <td>1.003311</td>\n",
       "    </tr>\n",
       "    <tr>\n",
       "      <th>111</th>\n",
       "      <td>2023-04</td>\n",
       "      <td>303.363</td>\n",
       "      <td>1.005059</td>\n",
       "    </tr>\n",
       "    <tr>\n",
       "      <th>112</th>\n",
       "      <td>2023-05</td>\n",
       "      <td>304.127</td>\n",
       "      <td>1.002518</td>\n",
       "    </tr>\n",
       "    <tr>\n",
       "      <th>113</th>\n",
       "      <td>2023-06</td>\n",
       "      <td>305.109</td>\n",
       "      <td>1.003229</td>\n",
       "    </tr>\n",
       "    <tr>\n",
       "      <th>114</th>\n",
       "      <td>2023-07</td>\n",
       "      <td>305.691</td>\n",
       "      <td>1.001908</td>\n",
       "    </tr>\n",
       "  </tbody>\n",
       "</table>\n",
       "</div>"
      ],
      "text/plain": [
       "        Date      CPI  CAGR_CPI\n",
       "110  2023-03  301.836  1.003311\n",
       "111  2023-04  303.363  1.005059\n",
       "112  2023-05  304.127  1.002518\n",
       "113  2023-06  305.109  1.003229\n",
       "114  2023-07  305.691  1.001908"
      ]
     },
     "execution_count": 5,
     "metadata": {},
     "output_type": "execute_result"
    }
   ],
   "source": [
    "CPI_df.tail()"
   ]
  },
  {
   "cell_type": "code",
   "execution_count": 6,
   "id": "c8187128",
   "metadata": {},
   "outputs": [],
   "source": [
    "CPI_df.fillna(value = 0,\n",
    "          inplace = True)"
   ]
  },
  {
   "cell_type": "code",
   "execution_count": 7,
   "id": "92222bc3",
   "metadata": {},
   "outputs": [],
   "source": [
    "CPI_data = {}\n",
    "# Add the keys in the deictionary for the sector key \n",
    "CPI_data['X'] = CPI_df['Date'].astype(str).to_list()\n",
    "CPI_data['Y'] = CPI_df['CAGR_CPI'].to_list()"
   ]
  },
  {
   "cell_type": "code",
   "execution_count": 8,
   "id": "a7c33baa",
   "metadata": {},
   "outputs": [],
   "source": [
    "file1 = open('CPI_data.txt', 'w')\n",
    "file1.write(str(CPI_data))\n",
    "file1.close()"
   ]
  },
  {
   "cell_type": "code",
   "execution_count": 9,
   "id": "74f66e9f",
   "metadata": {},
   "outputs": [],
   "source": [
    "file_path = \"CPI_Data.json\"\n",
    "with open(file_path, \"w\") as json_file:\n",
    "    json.dump(CPI_data, json_file)"
   ]
  },
  {
   "cell_type": "code",
   "execution_count": null,
   "id": "4235cdd5",
   "metadata": {},
   "outputs": [],
   "source": []
  }
 ],
 "metadata": {
  "kernelspec": {
   "display_name": "Python 3 (ipykernel)",
   "language": "python",
   "name": "python3"
  },
  "language_info": {
   "codemirror_mode": {
    "name": "ipython",
    "version": 3
   },
   "file_extension": ".py",
   "mimetype": "text/x-python",
   "name": "python",
   "nbconvert_exporter": "python",
   "pygments_lexer": "ipython3",
   "version": "3.10.9"
  }
 },
 "nbformat": 4,
 "nbformat_minor": 5
}
