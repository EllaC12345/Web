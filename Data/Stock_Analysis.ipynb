{
 "cells": [
  {
   "cell_type": "code",
   "execution_count": 1,
   "id": "e46f625a",
   "metadata": {},
   "outputs": [
    {
     "name": "stdout",
     "output_type": "stream",
     "text": [
      "Requirement already satisfied: yahoo_fin in /Users/ellandalla/anaconda3/lib/python3.10/site-packages (0.8.9.1)\n",
      "Requirement already satisfied: requests in /Users/ellandalla/anaconda3/lib/python3.10/site-packages (from yahoo_fin) (2.28.1)\n",
      "Requirement already satisfied: feedparser in /Users/ellandalla/anaconda3/lib/python3.10/site-packages (from yahoo_fin) (6.0.10)\n",
      "Requirement already satisfied: pandas in /Users/ellandalla/anaconda3/lib/python3.10/site-packages (from yahoo_fin) (1.5.3)\n",
      "Requirement already satisfied: requests-html in /Users/ellandalla/anaconda3/lib/python3.10/site-packages (from yahoo_fin) (0.10.0)\n",
      "Requirement already satisfied: sgmllib3k in /Users/ellandalla/anaconda3/lib/python3.10/site-packages (from feedparser->yahoo_fin) (1.0.0)\n",
      "Requirement already satisfied: python-dateutil>=2.8.1 in /Users/ellandalla/anaconda3/lib/python3.10/site-packages (from pandas->yahoo_fin) (2.8.2)\n",
      "Requirement already satisfied: pytz>=2020.1 in /Users/ellandalla/anaconda3/lib/python3.10/site-packages (from pandas->yahoo_fin) (2022.7)\n",
      "Requirement already satisfied: numpy>=1.21.0 in /Users/ellandalla/anaconda3/lib/python3.10/site-packages (from pandas->yahoo_fin) (1.22.3)\n",
      "Requirement already satisfied: charset-normalizer<3,>=2 in /Users/ellandalla/anaconda3/lib/python3.10/site-packages (from requests->yahoo_fin) (2.0.4)\n",
      "Requirement already satisfied: certifi>=2017.4.17 in /Users/ellandalla/anaconda3/lib/python3.10/site-packages (from requests->yahoo_fin) (2023.7.22)\n",
      "Requirement already satisfied: urllib3<1.27,>=1.21.1 in /Users/ellandalla/anaconda3/lib/python3.10/site-packages (from requests->yahoo_fin) (1.26.14)\n",
      "Requirement already satisfied: idna<4,>=2.5 in /Users/ellandalla/anaconda3/lib/python3.10/site-packages (from requests->yahoo_fin) (3.4)\n",
      "Requirement already satisfied: fake-useragent in /Users/ellandalla/anaconda3/lib/python3.10/site-packages (from requests-html->yahoo_fin) (1.1.3)\n",
      "Requirement already satisfied: pyppeteer>=0.0.14 in /Users/ellandalla/anaconda3/lib/python3.10/site-packages (from requests-html->yahoo_fin) (1.0.2)\n",
      "Requirement already satisfied: bs4 in /Users/ellandalla/anaconda3/lib/python3.10/site-packages (from requests-html->yahoo_fin) (0.0.1)\n",
      "Requirement already satisfied: w3lib in /Users/ellandalla/anaconda3/lib/python3.10/site-packages (from requests-html->yahoo_fin) (1.21.0)\n",
      "Requirement already satisfied: parse in /Users/ellandalla/anaconda3/lib/python3.10/site-packages (from requests-html->yahoo_fin) (1.19.0)\n",
      "Requirement already satisfied: pyquery in /Users/ellandalla/anaconda3/lib/python3.10/site-packages (from requests-html->yahoo_fin) (2.0.0)\n",
      "Requirement already satisfied: importlib-metadata>=1.4 in /Users/ellandalla/anaconda3/lib/python3.10/site-packages (from pyppeteer>=0.0.14->requests-html->yahoo_fin) (6.8.0)\n",
      "Requirement already satisfied: websockets<11.0,>=10.0 in /Users/ellandalla/anaconda3/lib/python3.10/site-packages (from pyppeteer>=0.0.14->requests-html->yahoo_fin) (10.4)\n",
      "Requirement already satisfied: tqdm<5.0.0,>=4.42.1 in /Users/ellandalla/anaconda3/lib/python3.10/site-packages (from pyppeteer>=0.0.14->requests-html->yahoo_fin) (4.64.1)\n",
      "Requirement already satisfied: appdirs<2.0.0,>=1.4.3 in /Users/ellandalla/anaconda3/lib/python3.10/site-packages (from pyppeteer>=0.0.14->requests-html->yahoo_fin) (1.4.4)\n",
      "Requirement already satisfied: pyee<9.0.0,>=8.1.0 in /Users/ellandalla/anaconda3/lib/python3.10/site-packages (from pyppeteer>=0.0.14->requests-html->yahoo_fin) (8.2.2)\n",
      "Requirement already satisfied: six>=1.5 in /Users/ellandalla/anaconda3/lib/python3.10/site-packages (from python-dateutil>=2.8.1->pandas->yahoo_fin) (1.16.0)\n",
      "Requirement already satisfied: beautifulsoup4 in /Users/ellandalla/anaconda3/lib/python3.10/site-packages (from bs4->requests-html->yahoo_fin) (4.11.1)\n",
      "Requirement already satisfied: cssselect>=1.2.0 in /Users/ellandalla/anaconda3/lib/python3.10/site-packages (from pyquery->requests-html->yahoo_fin) (1.2.0)\n",
      "Requirement already satisfied: lxml>=2.1 in /Users/ellandalla/anaconda3/lib/python3.10/site-packages (from pyquery->requests-html->yahoo_fin) (4.9.1)\n",
      "Requirement already satisfied: zipp>=0.5 in /Users/ellandalla/anaconda3/lib/python3.10/site-packages (from importlib-metadata>=1.4->pyppeteer>=0.0.14->requests-html->yahoo_fin) (3.11.0)\n",
      "Requirement already satisfied: soupsieve>1.2 in /Users/ellandalla/anaconda3/lib/python3.10/site-packages (from beautifulsoup4->bs4->requests-html->yahoo_fin) (2.3.2.post1)\n"
     ]
    }
   ],
   "source": [
    "!pip install --upgrade yahoo_fin"
   ]
  },
  {
   "cell_type": "code",
   "execution_count": 2,
   "id": "8de35d7d",
   "metadata": {},
   "outputs": [],
   "source": [
    "import pandas as pd\n",
    "import yfinance as yf\n",
    "import pandas as pd\n",
    "import numpy as np\n",
    "import matplotlib.pyplot as plt\n",
    "\n",
    "from yahoo_fin.stock_info import get_data\n",
    "from flask import Blueprint\n",
    "import requests\n",
    "import json\n",
    "from flask_sqlalchemy import SQLAlchemy\n",
    "from flask import Flask, render_template\n",
    "from os import path\n",
    "import csv\n",
    "import pprint\n",
    "\n",
    "import pandas as pd\n",
    "Finance_db = \"database.db\" ## defining the name of the SQLite database\n",
    "db = SQLAlchemy()\n",
    "\n"
   ]
  },
  {
   "cell_type": "code",
   "execution_count": 3,
   "id": "807fe482",
   "metadata": {},
   "outputs": [],
   "source": [
    "## Import NYSE stock from CSV\n",
    "NYSE_stock_df = pd.read_csv('/Users/ellandalla/Desktop/website Project/Data/NYSE_stocks.csv')"
   ]
  },
  {
   "cell_type": "code",
   "execution_count": 4,
   "id": "61f796cb",
   "metadata": {},
   "outputs": [
    {
     "data": {
      "text/html": [
       "<div>\n",
       "<style scoped>\n",
       "    .dataframe tbody tr th:only-of-type {\n",
       "        vertical-align: middle;\n",
       "    }\n",
       "\n",
       "    .dataframe tbody tr th {\n",
       "        vertical-align: top;\n",
       "    }\n",
       "\n",
       "    .dataframe thead th {\n",
       "        text-align: right;\n",
       "    }\n",
       "</style>\n",
       "<table border=\"1\" class=\"dataframe\">\n",
       "  <thead>\n",
       "    <tr style=\"text-align: right;\">\n",
       "      <th></th>\n",
       "      <th>Symbol</th>\n",
       "      <th>Name</th>\n",
       "      <th>Last Sale</th>\n",
       "      <th>Net Change</th>\n",
       "      <th>% Change</th>\n",
       "      <th>Market Cap</th>\n",
       "      <th>Country</th>\n",
       "      <th>IPO Year</th>\n",
       "      <th>Volume</th>\n",
       "      <th>Sector</th>\n",
       "      <th>Industry</th>\n",
       "    </tr>\n",
       "  </thead>\n",
       "  <tbody>\n",
       "    <tr>\n",
       "      <th>0</th>\n",
       "      <td>A</td>\n",
       "      <td>Agilent Technologies Inc. Common Stock</td>\n",
       "      <td>$125.05</td>\n",
       "      <td>-2.66</td>\n",
       "      <td>-2.08%</td>\n",
       "      <td>3.693674e+10</td>\n",
       "      <td>United States</td>\n",
       "      <td>1999.0</td>\n",
       "      <td>1742578</td>\n",
       "      <td>Industrials</td>\n",
       "      <td>Biotechnology: Laboratory Analytical Instruments</td>\n",
       "    </tr>\n",
       "    <tr>\n",
       "      <th>1</th>\n",
       "      <td>AA</td>\n",
       "      <td>Alcoa Corporation Common Stock</td>\n",
       "      <td>$34.50</td>\n",
       "      <td>0.57</td>\n",
       "      <td>1.68%</td>\n",
       "      <td>6.156511e+09</td>\n",
       "      <td>United States</td>\n",
       "      <td>2016.0</td>\n",
       "      <td>4243329</td>\n",
       "      <td>Industrials</td>\n",
       "      <td>Aluminum</td>\n",
       "    </tr>\n",
       "    <tr>\n",
       "      <th>2</th>\n",
       "      <td>AAIC</td>\n",
       "      <td>Arlington Asset Investment Corp Class A (new)</td>\n",
       "      <td>$4.43</td>\n",
       "      <td>-0.12</td>\n",
       "      <td>-2.64%</td>\n",
       "      <td>1.256368e+08</td>\n",
       "      <td>United States</td>\n",
       "      <td>NaN</td>\n",
       "      <td>289165</td>\n",
       "      <td>Real Estate</td>\n",
       "      <td>Real Estate Investment Trusts</td>\n",
       "    </tr>\n",
       "    <tr>\n",
       "      <th>3</th>\n",
       "      <td>AAIN</td>\n",
       "      <td>Arlington Asset Investment Corp 6.000% Senior ...</td>\n",
       "      <td>$23.71</td>\n",
       "      <td>0.00</td>\n",
       "      <td>0.00%</td>\n",
       "      <td>6.724234e+08</td>\n",
       "      <td>United States</td>\n",
       "      <td>NaN</td>\n",
       "      <td>10</td>\n",
       "      <td>Real Estate</td>\n",
       "      <td>Real Estate Investment Trusts</td>\n",
       "    </tr>\n",
       "    <tr>\n",
       "      <th>4</th>\n",
       "      <td>AAN</td>\n",
       "      <td>Aarons Holdings Company Inc. Common Stock</td>\n",
       "      <td>$13.15</td>\n",
       "      <td>-1.08</td>\n",
       "      <td>-7.59%</td>\n",
       "      <td>4.059274e+08</td>\n",
       "      <td>United States</td>\n",
       "      <td>2020.0</td>\n",
       "      <td>294314</td>\n",
       "      <td>Consumer Discretionary</td>\n",
       "      <td>Diversified Commercial Services</td>\n",
       "    </tr>\n",
       "  </tbody>\n",
       "</table>\n",
       "</div>"
      ],
      "text/plain": [
       "  Symbol                                               Name Last Sale  \\\n",
       "0      A             Agilent Technologies Inc. Common Stock  $125.05    \n",
       "1     AA                    Alcoa Corporation Common Stock    $34.50    \n",
       "2   AAIC      Arlington Asset Investment Corp Class A (new)    $4.43    \n",
       "3   AAIN  Arlington Asset Investment Corp 6.000% Senior ...   $23.71    \n",
       "4    AAN         Aarons Holdings Company Inc. Common Stock    $13.15    \n",
       "\n",
       "   Net Change % Change    Market Cap        Country  IPO Year   Volume  \\\n",
       "0       -2.66   -2.08%  3.693674e+10  United States    1999.0  1742578   \n",
       "1        0.57    1.68%  6.156511e+09  United States    2016.0  4243329   \n",
       "2       -0.12   -2.64%  1.256368e+08  United States       NaN   289165   \n",
       "3        0.00    0.00%  6.724234e+08  United States       NaN       10   \n",
       "4       -1.08   -7.59%  4.059274e+08  United States    2020.0   294314   \n",
       "\n",
       "                   Sector                                          Industry  \n",
       "0             Industrials  Biotechnology: Laboratory Analytical Instruments  \n",
       "1             Industrials                                          Aluminum  \n",
       "2             Real Estate                     Real Estate Investment Trusts  \n",
       "3             Real Estate                     Real Estate Investment Trusts  \n",
       "4  Consumer Discretionary                   Diversified Commercial Services  "
      ]
     },
     "execution_count": 4,
     "metadata": {},
     "output_type": "execute_result"
    }
   ],
   "source": [
    "NYSE_stock_df.head()"
   ]
  },
  {
   "cell_type": "code",
   "execution_count": null,
   "id": "771cde79",
   "metadata": {},
   "outputs": [
    {
     "name": "stdout",
     "output_type": "stream",
     "text": [
      "Error fetching data for ABC: {'chart': {'result': None, 'error': {'code': 'Not Found', 'description': 'No data found, symbol may be delisted'}}}\n",
      "Error fetching data for APE: {'chart': {'result': None, 'error': {'code': 'Not Found', 'description': 'No data found, symbol may be delisted'}}}\n",
      "Error fetching data for ARNC: {'chart': {'result': None, 'error': {'code': 'Not Found', 'description': 'No data found, symbol may be delisted'}}}\n"
     ]
    }
   ],
   "source": [
    "stock_df_results = pd.DataFrame()\n",
    "# Use a for loop to fetch historical data from YFinance\n",
    "for symbol in NYSE_stock_df['Symbol']:\n",
    "    try:\n",
    "        data = get_data(symbol, start_date=\"2014-01-01\", end_date=\"2023-07-31\", index_as_date = True, interval=\"1mo\")\n",
    "        if not data.empty:\n",
    "            stock_df_results = pd.concat([stock_df_results, data])\n",
    "        else:\n",
    "            print(f\"No data available for {symbol}\")\n",
    "        # Process the data here\n",
    "    except Exception as e:\n",
    "        print(f\"Error fetching data for {symbol}: {str(e)}\")\n",
    "        \n",
    "      "
   ]
  },
  {
   "cell_type": "code",
   "execution_count": null,
   "id": "76929c4a",
   "metadata": {},
   "outputs": [],
   "source": [
    "stock_df_results.iloc[:5]"
   ]
  },
  {
   "cell_type": "code",
   "execution_count": null,
   "id": "267fa501",
   "metadata": {},
   "outputs": [],
   "source": [
    "stock_df_results.iloc[:-5]"
   ]
  },
  {
   "cell_type": "code",
   "execution_count": null,
   "id": "d46e0768",
   "metadata": {
    "scrolled": true
   },
   "outputs": [],
   "source": [
    "# merge the stock_df_results with stock_df to get the sector\n",
    "NYSE_final_df = pd.merge(NYSE_stock_df[['Symbol', 'Sector']], stock_df_results.reset_index(), \n",
    "                            left_on=\"Symbol\", right_on=\"ticker\")\n",
    "## Group stock by sector and by price\n",
    "grouped = NYSE_final_df.groupby(['Sector', 'index']).sum()\n",
    "grouped_data = pd.DataFrame(grouped)\n",
    "\n",
    "te = grouped_data.index.get_level_values(index)\n",
    "#grouped_data\n",
    "#NYSE_fin\n",
    "grouped_data.head()\n",
    "drop_list=['high', 'low', 'adjclose', 'open' ]\n",
    "for item in drop_list:\n",
    "    grouped_data = grouped_data.drop(item, axis=1)\n",
    "grouped_data.head()"
   ]
  },
  {
   "cell_type": "code",
   "execution_count": null,
   "id": "5828ae2b",
   "metadata": {},
   "outputs": [],
   "source": [
    "grouped_data.head()"
   ]
  },
  {
   "cell_type": "code",
   "execution_count": null,
   "id": "d2a10e15",
   "metadata": {},
   "outputs": [],
   "source": [
    "grouped_data.reset_index(inplace=True)"
   ]
  },
  {
   "cell_type": "code",
   "execution_count": null,
   "id": "deb97ffe",
   "metadata": {},
   "outputs": [],
   "source": [
    "grouped_data.head()"
   ]
  },
  {
   "cell_type": "code",
   "execution_count": null,
   "id": "dcdaf03e",
   "metadata": {},
   "outputs": [],
   "source": [
    "#pivot_df_Price = pd.pivot_table(grouped_data, index = ['index'], columns = ['Sector'], values = 'Change in Price').reset_index()"
   ]
  },
  {
   "cell_type": "code",
   "execution_count": null,
   "id": "33c02cdc",
   "metadata": {},
   "outputs": [],
   "source": [
    "#pivot_df_Price"
   ]
  },
  {
   "cell_type": "code",
   "execution_count": null,
   "id": "40eb6d39",
   "metadata": {},
   "outputs": [],
   "source": [
    "CAGR_data = {}\n",
    "for sector in pivot_df_Price.columns[1:]:\n",
    "    # initiaitlize the sector names in dictionary\n",
    "    CAGR_data[sector] = {}\n",
    "    # Add the keys in the deictionary for the sector key \n",
    "    CAGR_data[sector]['X'] = pivot_df_Price['index'].astype(str).to_list()\n",
    "    CAGR_data[sector]['Y'] = pivot_df_Price[sector].to_list()\n",
    "print(type(CAGR_data))"
   ]
  },
  {
   "cell_type": "code",
   "execution_count": null,
   "id": "e8dd7aa3",
   "metadata": {},
   "outputs": [],
   "source": [
    "## converting to json file\n",
    "file_path = \"CAGR_data.json\"\n",
    "with open(file_path, \"w\") as json_file:\n",
    "    json.dump(CAGR_data, json_file)"
   ]
  },
  {
   "cell_type": "code",
   "execution_count": null,
   "id": "f69cfdce",
   "metadata": {},
   "outputs": [],
   "source": [
    "# To capture CAGR Volume \n",
    "pivot_df_Volume = pd.pivot_table(grouped_data, index = ['index'], columns = ['Sector'], values = 'Change in Volume').reset_index()"
   ]
  },
  {
   "cell_type": "code",
   "execution_count": null,
   "id": "97f3c7c5",
   "metadata": {},
   "outputs": [],
   "source": [
    "\n",
    "pivot_df_Volume"
   ]
  },
  {
   "cell_type": "code",
   "execution_count": null,
   "id": "35471da1",
   "metadata": {},
   "outputs": [],
   "source": [
    "CAGR_Volume = {}\n",
    "for sector in pivot_df_Volume.columns[1:]:\n",
    "    # initiaitlize the sector names in dictionary\n",
    "    CAGR_Volume[sector] = {}\n",
    "    # Add the keys in the deictionary for the sector key \n",
    "    CAGR_Volume[sector]['X'] = pivot_df_Volume['index'].astype(str).to_list()\n",
    "    CAGR_Volume[sector]['Y'] = pivot_df_Volume[sector].to_list()"
   ]
  },
  {
   "cell_type": "code",
   "execution_count": null,
   "id": "5e461c22",
   "metadata": {},
   "outputs": [],
   "source": [
    "file_path = \"CAGR_volume.json\"\n",
    "with open(file_path, \"w\") as json_file:\n",
    "    json.dump(CAGR_Volume, json_file)"
   ]
  },
  {
   "cell_type": "code",
   "execution_count": null,
   "id": "90d44ace",
   "metadata": {},
   "outputs": [],
   "source": []
  },
  {
   "cell_type": "code",
   "execution_count": null,
   "id": "4231dbc4",
   "metadata": {},
   "outputs": [],
   "source": []
  },
  {
   "cell_type": "code",
   "execution_count": null,
   "id": "f8527f33",
   "metadata": {},
   "outputs": [],
   "source": [
    "CAGR_Volume['Finance']['Y']"
   ]
  },
  {
   "cell_type": "code",
   "execution_count": null,
   "id": "ae83e52a",
   "metadata": {
    "scrolled": true
   },
   "outputs": [],
   "source": [
    "## To capture regular volume per sector\n",
    "pivot_df_Sector_volume = pd.pivot_table(grouped_data,columns = ['Sector'], values ='volume').reset_index()\n",
    "\n",
    "\n",
    "pivot_df_Sector_volume"
   ]
  },
  {
   "cell_type": "code",
   "execution_count": null,
   "id": "35ca2007",
   "metadata": {},
   "outputs": [],
   "source": [
    "Sector_Volume = {}\n",
    "Sector_Volume['X'] = pivot_df_Sector_volume[sector].to_list()\n",
    "Sector_Volume['Y'] = pivot_df_Sector_volume['index'].astype(str).to_list()\n",
    "    "
   ]
  },
  {
   "cell_type": "code",
   "execution_count": null,
   "id": "9753364b",
   "metadata": {},
   "outputs": [],
   "source": [
    "file1 = open('Sector_Volume.txt', 'w')\n",
    "file1.write(str(Sector_Volume))\n",
    "file1.close()"
   ]
  },
  {
   "cell_type": "code",
   "execution_count": null,
   "id": "8338cc27",
   "metadata": {},
   "outputs": [],
   "source": []
  }
 ],
 "metadata": {
  "kernelspec": {
   "display_name": "Python 3 (ipykernel)",
   "language": "python",
   "name": "python3"
  },
  "language_info": {
   "codemirror_mode": {
    "name": "ipython",
    "version": 3
   },
   "file_extension": ".py",
   "mimetype": "text/x-python",
   "name": "python",
   "nbconvert_exporter": "python",
   "pygments_lexer": "ipython3",
   "version": "3.10.9"
  }
 },
 "nbformat": 4,
 "nbformat_minor": 5
}
